{
 "cells": [
  {
   "cell_type": "markdown",
   "metadata": {},
   "source": [
    "# The Counted Project\n",
    "Exploratory analysis with Sankey Diagram about 'People Killed by the Police'"
   ]
  },
  {
   "cell_type": "code",
   "execution_count": 1,
   "metadata": {
    "collapsed": true
   },
   "outputs": [],
   "source": [
    "import pandas as pd\n",
    "import numpy as np\n",
    "import matplotlib.pyplot as plt\n",
    "\n",
    "from matplotlib.sankey import Sankey"
   ]
  },
  {
   "cell_type": "code",
   "execution_count": 2,
   "metadata": {
    "collapsed": false
   },
   "outputs": [
    {
     "name": "stdout",
     "output_type": "stream",
     "text": [
      "line_width has been deprecated, use display.width instead (currently both are\n",
      "identical)\n",
      "\n"
     ]
    }
   ],
   "source": [
    "# display all the columns\n",
    "pd.set_option('display.line_width', 5000)\n",
    "pd.set_option('display.max_columns', 60)\n",
    "pd.set_option('display.max_rows', 500)"
   ]
  },
  {
   "cell_type": "code",
   "execution_count": 3,
   "metadata": {
    "collapsed": true
   },
   "outputs": [],
   "source": [
    "dataset = pd.read_csv('/Users/annalie/Downloads/thecounted-data/the-counted-2016.csv')"
   ]
  },
  {
   "cell_type": "code",
   "execution_count": 4,
   "metadata": {
    "collapsed": false
   },
   "outputs": [
    {
     "data": {
      "text/html": [
       "<div>\n",
       "<table border=\"1\" class=\"dataframe\">\n",
       "  <thead>\n",
       "    <tr style=\"text-align: right;\">\n",
       "      <th></th>\n",
       "      <th>uid</th>\n",
       "      <th>name</th>\n",
       "      <th>age</th>\n",
       "      <th>gender</th>\n",
       "      <th>raceethnicity</th>\n",
       "      <th>month</th>\n",
       "      <th>day</th>\n",
       "      <th>year</th>\n",
       "      <th>streetaddress</th>\n",
       "      <th>city</th>\n",
       "      <th>state</th>\n",
       "      <th>classification</th>\n",
       "      <th>lawenforcementagency</th>\n",
       "      <th>armed</th>\n",
       "    </tr>\n",
       "  </thead>\n",
       "  <tbody>\n",
       "    <tr>\n",
       "      <th>0</th>\n",
       "      <td>20161</td>\n",
       "      <td>Joshua Sisson</td>\n",
       "      <td>30</td>\n",
       "      <td>Male</td>\n",
       "      <td>White</td>\n",
       "      <td>January</td>\n",
       "      <td>1</td>\n",
       "      <td>2016</td>\n",
       "      <td>4200 6th Ave</td>\n",
       "      <td>San Diego</td>\n",
       "      <td>CA</td>\n",
       "      <td>Gunshot</td>\n",
       "      <td>San Diego Police Department</td>\n",
       "      <td>Knife</td>\n",
       "    </tr>\n",
       "    <tr>\n",
       "      <th>1</th>\n",
       "      <td>20162</td>\n",
       "      <td>Germonta Wallace</td>\n",
       "      <td>30</td>\n",
       "      <td>Male</td>\n",
       "      <td>Black</td>\n",
       "      <td>January</td>\n",
       "      <td>3</td>\n",
       "      <td>2016</td>\n",
       "      <td>2600 Watson Dr</td>\n",
       "      <td>Charlotte</td>\n",
       "      <td>NC</td>\n",
       "      <td>Gunshot</td>\n",
       "      <td>Charlotte-Mecklenburg Police Department</td>\n",
       "      <td>Firearm</td>\n",
       "    </tr>\n",
       "    <tr>\n",
       "      <th>2</th>\n",
       "      <td>20163</td>\n",
       "      <td>Sean O'Brien</td>\n",
       "      <td>37</td>\n",
       "      <td>Male</td>\n",
       "      <td>White</td>\n",
       "      <td>January</td>\n",
       "      <td>2</td>\n",
       "      <td>2016</td>\n",
       "      <td>100 Washington St</td>\n",
       "      <td>Livingston</td>\n",
       "      <td>MT</td>\n",
       "      <td>Gunshot</td>\n",
       "      <td>Livingston Police Department</td>\n",
       "      <td>Knife</td>\n",
       "    </tr>\n",
       "    <tr>\n",
       "      <th>3</th>\n",
       "      <td>20164</td>\n",
       "      <td>Rodney Turner</td>\n",
       "      <td>22</td>\n",
       "      <td>Male</td>\n",
       "      <td>Black</td>\n",
       "      <td>January</td>\n",
       "      <td>4</td>\n",
       "      <td>2016</td>\n",
       "      <td>3600 NW 42nd St</td>\n",
       "      <td>Oklahoma City</td>\n",
       "      <td>OK</td>\n",
       "      <td>Gunshot</td>\n",
       "      <td>Oklahoma City Police Department</td>\n",
       "      <td>Firearm</td>\n",
       "    </tr>\n",
       "    <tr>\n",
       "      <th>4</th>\n",
       "      <td>20165</td>\n",
       "      <td>Eric Senegal</td>\n",
       "      <td>27</td>\n",
       "      <td>Male</td>\n",
       "      <td>Black</td>\n",
       "      <td>January</td>\n",
       "      <td>4</td>\n",
       "      <td>2016</td>\n",
       "      <td>Gene Stanley Rd</td>\n",
       "      <td>Ragley</td>\n",
       "      <td>LA</td>\n",
       "      <td>Gunshot</td>\n",
       "      <td>Beauregard Parish Sheriff's Office</td>\n",
       "      <td>Unknown</td>\n",
       "    </tr>\n",
       "  </tbody>\n",
       "</table>\n",
       "</div>"
      ],
      "text/plain": [
       "     uid              name age gender raceethnicity    month  day  year      streetaddress           city state classification                     lawenforcementagency    armed\n",
       "0  20161     Joshua Sisson  30   Male         White  January    1  2016       4200 6th Ave      San Diego    CA        Gunshot              San Diego Police Department    Knife\n",
       "1  20162  Germonta Wallace  30   Male         Black  January    3  2016     2600 Watson Dr      Charlotte    NC        Gunshot  Charlotte-Mecklenburg Police Department  Firearm\n",
       "2  20163      Sean O'Brien  37   Male         White  January    2  2016  100 Washington St     Livingston    MT        Gunshot             Livingston Police Department    Knife\n",
       "3  20164     Rodney Turner  22   Male         Black  January    4  2016    3600 NW 42nd St  Oklahoma City    OK        Gunshot          Oklahoma City Police Department  Firearm\n",
       "4  20165      Eric Senegal  27   Male         Black  January    4  2016    Gene Stanley Rd         Ragley    LA        Gunshot       Beauregard Parish Sheriff's Office  Unknown"
      ]
     },
     "execution_count": 4,
     "metadata": {},
     "output_type": "execute_result"
    }
   ],
   "source": [
    "dataset.head()"
   ]
  },
  {
   "cell_type": "code",
   "execution_count": 5,
   "metadata": {
    "collapsed": false
   },
   "outputs": [
    {
     "name": "stdout",
     "output_type": "stream",
     "text": [
      "number of rows = 749\n",
      "number of columns = 14\n"
     ]
    }
   ],
   "source": [
    "print \"number of rows =\", len(dataset)\n",
    "print \"number of columns =\", len(dataset.columns)"
   ]
  },
  {
   "cell_type": "code",
   "execution_count": 6,
   "metadata": {
    "collapsed": false
   },
   "outputs": [
    {
     "name": "stdout",
     "output_type": "stream",
     "text": [
      "number of rows after removing duplicates =  749\n"
     ]
    }
   ],
   "source": [
    "# check on duplicated rows\n",
    "dataset = dataset.drop_duplicates()\n",
    "print \"number of rows after removing duplicates = \", len(dataset)"
   ]
  },
  {
   "cell_type": "code",
   "execution_count": 7,
   "metadata": {
    "collapsed": false
   },
   "outputs": [
    {
     "name": "stdout",
     "output_type": "stream",
     "text": [
      "number of rows after removing missing values = 732\n"
     ]
    }
   ],
   "source": [
    "# drop rows with missing values\n",
    "dataset = dataset.dropna()\n",
    "print \"number of rows after removing missing values =\", len(dataset)"
   ]
  },
  {
   "cell_type": "code",
   "execution_count": 8,
   "metadata": {
    "collapsed": false
   },
   "outputs": [
    {
     "data": {
      "text/plain": [
       "array(['Knife', 'Firearm', 'Unknown', 'No', 'Non-lethal firearm', 'Other',\n",
       "       'Vehicle', 'Disputed'], dtype=object)"
      ]
     },
     "execution_count": 8,
     "metadata": {},
     "output_type": "execute_result"
    }
   ],
   "source": [
    "dataset.armed.unique()"
   ]
  },
  {
   "cell_type": "code",
   "execution_count": 9,
   "metadata": {
    "collapsed": false
   },
   "outputs": [
    {
     "name": "stdout",
     "output_type": "stream",
     "text": [
      "Knife = 115\n",
      "Firearm = 343\n",
      "Unkown = 0\n",
      "No = 111\n",
      "Non-lethal firearm = 33\n",
      "Other = 38\n",
      "Vehicle = 23\n",
      "Disputed = 5\n"
     ]
    }
   ],
   "source": [
    "# print number of rows with 'functional', 'non functional' and 'functional needs repair' \n",
    "print \"Knife =\", len(dataset[dataset.armed == 'Knife'])\n",
    "print \"Firearm =\", len(dataset[dataset.armed == 'Firearm'])\n",
    "print \"Unkown =\", len(dataset[dataset.armed == 'Unkown'])\n",
    "print \"No =\", len(dataset[dataset.armed == 'No'])\n",
    "print \"Non-lethal firearm =\", len(dataset[dataset.armed == 'Non-lethal firearm'])\n",
    "print \"Other =\", len(dataset[dataset.armed == 'Other'])\n",
    "print \"Vehicle =\", len(dataset[dataset.armed == 'Vehicle'])\n",
    "print \"Disputed =\", len(dataset[dataset.armed == 'Disputed'])"
   ]
  },
  {
   "cell_type": "markdown",
   "metadata": {},
   "source": [
    "# Create group by tables"
   ]
  },
  {
   "cell_type": "code",
   "execution_count": 10,
   "metadata": {
    "collapsed": false
   },
   "outputs": [
    {
     "data": {
      "text/html": [
       "<div>\n",
       "<table border=\"1\" class=\"dataframe\">\n",
       "  <thead>\n",
       "    <tr style=\"text-align: right;\">\n",
       "      <th></th>\n",
       "      <th>state</th>\n",
       "      <th>raceethnicity</th>\n",
       "      <th>armed</th>\n",
       "    </tr>\n",
       "  </thead>\n",
       "  <tbody>\n",
       "    <tr>\n",
       "      <th>0</th>\n",
       "      <td>CA</td>\n",
       "      <td>White</td>\n",
       "      <td>Knife</td>\n",
       "    </tr>\n",
       "    <tr>\n",
       "      <th>1</th>\n",
       "      <td>NC</td>\n",
       "      <td>Black</td>\n",
       "      <td>Firearm</td>\n",
       "    </tr>\n",
       "    <tr>\n",
       "      <th>2</th>\n",
       "      <td>MT</td>\n",
       "      <td>White</td>\n",
       "      <td>Knife</td>\n",
       "    </tr>\n",
       "    <tr>\n",
       "      <th>3</th>\n",
       "      <td>OK</td>\n",
       "      <td>Black</td>\n",
       "      <td>Firearm</td>\n",
       "    </tr>\n",
       "    <tr>\n",
       "      <th>4</th>\n",
       "      <td>LA</td>\n",
       "      <td>Black</td>\n",
       "      <td>Unknown</td>\n",
       "    </tr>\n",
       "  </tbody>\n",
       "</table>\n",
       "</div>"
      ],
      "text/plain": [
       "  state raceethnicity    armed\n",
       "0    CA         White    Knife\n",
       "1    NC         Black  Firearm\n",
       "2    MT         White    Knife\n",
       "3    OK         Black  Firearm\n",
       "4    LA         Black  Unknown"
      ]
     },
     "execution_count": 10,
     "metadata": {},
     "output_type": "execute_result"
    }
   ],
   "source": [
    "# select variables to use for group by counts\n",
    "state_raceethnicity_armed = pd.DataFrame(dataset, columns = ['state', 'raceethnicity', 'armed'])\n",
    "state_raceethnicity_armed.head()"
   ]
  },
  {
   "cell_type": "code",
   "execution_count": 11,
   "metadata": {
    "collapsed": false
   },
   "outputs": [
    {
     "name": "stdout",
     "output_type": "stream",
     "text": [
      "raceethnicity\n",
      "Arab-American               2\n",
      "Asian/Pacific Islander     13\n",
      "Black                     183\n",
      "Hispanic/Latino           126\n",
      "Native American            12\n",
      "Unknown                    41\n",
      "White                     355\n",
      "dtype: int64\n",
      "armed\n",
      "Disputed                5\n",
      "Firearm               343\n",
      "Knife                 115\n",
      "No                    111\n",
      "Non-lethal firearm     33\n",
      "Other                  38\n",
      "Unknown                64\n",
      "Vehicle                23\n",
      "dtype: int64\n",
      "armed                   Disputed  Firearm  Knife  No  Non-lethal firearm  Other  Unknown  Vehicle\n",
      "raceethnicity                                                                                    \n",
      "Arab-American                NaN        1      1 NaN                 NaN    NaN      NaN      NaN\n",
      "Asian/Pacific Islander       NaN        4      4   1                   1      1      NaN        2\n",
      "Black                          4      101     12  31                  12      3       14        6\n",
      "Hispanic/Latino              NaN       56     22  18                   1     11       15        3\n",
      "Native American              NaN        6      3   1                 NaN      1      NaN        1\n",
      "Unknown                      NaN       15     11   3                   1      3        7        1\n",
      "White                          1      160     62  57                  18     19       28       10\n"
     ]
    }
   ],
   "source": [
    "# print counts by race ethnicity\n",
    "print state_raceethnicity_armed.groupby('raceethnicity').size()\n",
    "    # groupedby_raceethnicity = state_raceethnicity_armed.groupby('raceethnicity').count()\n",
    "    # print groupedby_raceethnicity\n",
    "    \n",
    "# print counts by armed\n",
    "print state_raceethnicity_armed.groupby('armed').size()\n",
    "    # groupedby_raceethnicity = state_raceethnicity_armed.groupby('raceethnicity').count()\n",
    "    # print groupedby_raceethnicity    \n",
    "\n",
    "# print counts by race ethnicity and type of armed\n",
    "print state_raceethnicity_armed.groupby(['raceethnicity', 'armed']).size().unstack()\n",
    "    # or: groupedby_raceethnicity_armed = state_raceethnicity_armed['armed'].groupby([state_raceethnicity_armed['raceethnicity'], state_raceethnicity_armed['armed']]).count()\n",
    "    # print groupedby_raceethnicity_armed"
   ]
  },
  {
   "cell_type": "markdown",
   "metadata": {},
   "source": [
    "# Prepare data for Sankey Diagram in Tableau"
   ]
  },
  {
   "cell_type": "code",
   "execution_count": 12,
   "metadata": {
    "collapsed": true
   },
   "outputs": [],
   "source": [
    "# 1. take a selection of the dataset:\n",
    "# index \n",
    "# ethnicity: black, hispanic, white\n",
    "# armed: firearm, knife, no, non-lethal firearm, other, unknown, vehicle\n",
    "\n",
    "# 2. resort this new dataset by the variable armed\n",
    "# what you get is a reordening of the index numbers\n",
    "# save only the reordered index variable\n",
    "\n",
    "# 3. add the reorded index variable to the dataset in step 1"
   ]
  },
  {
   "cell_type": "code",
   "execution_count": 17,
   "metadata": {
    "collapsed": false
   },
   "outputs": [
    {
     "data": {
      "text/html": [
       "<div>\n",
       "<table border=\"1\" class=\"dataframe\">\n",
       "  <thead>\n",
       "    <tr style=\"text-align: right;\">\n",
       "      <th></th>\n",
       "      <th>first</th>\n",
       "      <th>raceethnicity</th>\n",
       "      <th>armed</th>\n",
       "    </tr>\n",
       "  </thead>\n",
       "  <tbody>\n",
       "    <tr>\n",
       "      <th>0</th>\n",
       "      <td>0</td>\n",
       "      <td>Arab-American</td>\n",
       "      <td>Firearm</td>\n",
       "    </tr>\n",
       "    <tr>\n",
       "      <th>1</th>\n",
       "      <td>1</td>\n",
       "      <td>Arab-American</td>\n",
       "      <td>Knife</td>\n",
       "    </tr>\n",
       "    <tr>\n",
       "      <th>2</th>\n",
       "      <td>2</td>\n",
       "      <td>Asian/Pacific Islander</td>\n",
       "      <td>Firearm</td>\n",
       "    </tr>\n",
       "    <tr>\n",
       "      <th>3</th>\n",
       "      <td>3</td>\n",
       "      <td>Asian/Pacific Islander</td>\n",
       "      <td>Knife</td>\n",
       "    </tr>\n",
       "    <tr>\n",
       "      <th>4</th>\n",
       "      <td>4</td>\n",
       "      <td>Asian/Pacific Islander</td>\n",
       "      <td>Knife</td>\n",
       "    </tr>\n",
       "  </tbody>\n",
       "</table>\n",
       "</div>"
      ],
      "text/plain": [
       "   first           raceethnicity    armed\n",
       "0      0           Arab-American  Firearm\n",
       "1      1           Arab-American    Knife\n",
       "2      2  Asian/Pacific Islander  Firearm\n",
       "3      3  Asian/Pacific Islander    Knife\n",
       "4      4  Asian/Pacific Islander    Knife"
      ]
     },
     "execution_count": 17,
     "metadata": {},
     "output_type": "execute_result"
    }
   ],
   "source": [
    "# 1. take a selection of the dataset:\n",
    "# index \n",
    "# ethnicity: black, hispanic, white\n",
    "# armed: firearm, knife, no, non-lethal firearm, other, unknown, vehicle\n",
    "\n",
    "dataset_sankey = pd.DataFrame(dataset, columns = ['uid', 'raceethnicity', 'armed'])\n",
    "\n",
    "# order dataset by race ethnicity\n",
    "dataset_sankey_sorted_by_race = dataset_sankey.sort('raceethnicity')\n",
    "\n",
    "# reorder the index from 1 to the end. this will be the new order of the records\n",
    "# create a new column for the index column\n",
    "dataset_sankey_sorted_by_race.index = list(range(len(dataset_sankey_sorted_by_race.index)))\n",
    "dataset_sankey_sorted_by_race['first'] = dataset_sankey_sorted_by_race.index\n",
    "dataset_sankey_sorted_by_race = pd.DataFrame(dataset_sankey_sorted_by_race, columns = ['first', 'raceethnicity', 'armed'])\n",
    "\n",
    "dataset_sankey_sorted_by_race.head()"
   ]
  },
  {
   "cell_type": "code",
   "execution_count": 19,
   "metadata": {
    "collapsed": false
   },
   "outputs": [
    {
     "data": {
      "text/html": [
       "<div>\n",
       "<table border=\"1\" class=\"dataframe\">\n",
       "  <thead>\n",
       "    <tr style=\"text-align: right;\">\n",
       "      <th></th>\n",
       "      <th>first</th>\n",
       "      <th>raceethnicity</th>\n",
       "      <th>armed</th>\n",
       "    </tr>\n",
       "  </thead>\n",
       "  <tbody>\n",
       "    <tr>\n",
       "      <th>100</th>\n",
       "      <td>100</td>\n",
       "      <td>Black</td>\n",
       "      <td>Disputed</td>\n",
       "    </tr>\n",
       "    <tr>\n",
       "      <th>693</th>\n",
       "      <td>693</td>\n",
       "      <td>White</td>\n",
       "      <td>Disputed</td>\n",
       "    </tr>\n",
       "    <tr>\n",
       "      <th>140</th>\n",
       "      <td>140</td>\n",
       "      <td>Black</td>\n",
       "      <td>Disputed</td>\n",
       "    </tr>\n",
       "    <tr>\n",
       "      <th>103</th>\n",
       "      <td>103</td>\n",
       "      <td>Black</td>\n",
       "      <td>Disputed</td>\n",
       "    </tr>\n",
       "    <tr>\n",
       "      <th>45</th>\n",
       "      <td>45</td>\n",
       "      <td>Black</td>\n",
       "      <td>Disputed</td>\n",
       "    </tr>\n",
       "    <tr>\n",
       "      <th>582</th>\n",
       "      <td>582</td>\n",
       "      <td>White</td>\n",
       "      <td>Firearm</td>\n",
       "    </tr>\n",
       "    <tr>\n",
       "      <th>583</th>\n",
       "      <td>583</td>\n",
       "      <td>White</td>\n",
       "      <td>Firearm</td>\n",
       "    </tr>\n",
       "    <tr>\n",
       "      <th>585</th>\n",
       "      <td>585</td>\n",
       "      <td>White</td>\n",
       "      <td>Firearm</td>\n",
       "    </tr>\n",
       "    <tr>\n",
       "      <th>586</th>\n",
       "      <td>586</td>\n",
       "      <td>White</td>\n",
       "      <td>Firearm</td>\n",
       "    </tr>\n",
       "    <tr>\n",
       "      <th>587</th>\n",
       "      <td>587</td>\n",
       "      <td>White</td>\n",
       "      <td>Firearm</td>\n",
       "    </tr>\n",
       "  </tbody>\n",
       "</table>\n",
       "</div>"
      ],
      "text/plain": [
       "     first raceethnicity     armed\n",
       "100    100         Black  Disputed\n",
       "693    693         White  Disputed\n",
       "140    140         Black  Disputed\n",
       "103    103         Black  Disputed\n",
       "45      45         Black  Disputed\n",
       "582    582         White   Firearm\n",
       "583    583         White   Firearm\n",
       "585    585         White   Firearm\n",
       "586    586         White   Firearm\n",
       "587    587         White   Firearm"
      ]
     },
     "execution_count": 19,
     "metadata": {},
     "output_type": "execute_result"
    }
   ],
   "source": [
    "# 2. resort this new dataset by the variable armed\n",
    "# what you get is a reordening of the index numbers\n",
    "# save only the reordered index variable\n",
    "\n",
    "dataset_sankey_sorted_by_armed = dataset_sankey_sorted_by_race.sort('armed')\n",
    "# dataset_sankey_sorted = pd.DataFrame(dataset_sankey_sorted, columns = ['random', 'raceethnicity', 'armed'])\n",
    "dataset_sankey_sorted_by_armed.head(n=10)"
   ]
  },
  {
   "cell_type": "code",
   "execution_count": 20,
   "metadata": {
    "collapsed": false
   },
   "outputs": [
    {
     "data": {
      "text/html": [
       "<div>\n",
       "<table border=\"1\" class=\"dataframe\">\n",
       "  <thead>\n",
       "    <tr style=\"text-align: right;\">\n",
       "      <th></th>\n",
       "      <th>first</th>\n",
       "      <th>raceethnicity</th>\n",
       "      <th>armed</th>\n",
       "      <th>second</th>\n",
       "    </tr>\n",
       "  </thead>\n",
       "  <tbody>\n",
       "    <tr>\n",
       "      <th>0</th>\n",
       "      <td>100</td>\n",
       "      <td>Black</td>\n",
       "      <td>Disputed</td>\n",
       "      <td>0</td>\n",
       "    </tr>\n",
       "    <tr>\n",
       "      <th>1</th>\n",
       "      <td>693</td>\n",
       "      <td>White</td>\n",
       "      <td>Disputed</td>\n",
       "      <td>1</td>\n",
       "    </tr>\n",
       "    <tr>\n",
       "      <th>2</th>\n",
       "      <td>140</td>\n",
       "      <td>Black</td>\n",
       "      <td>Disputed</td>\n",
       "      <td>2</td>\n",
       "    </tr>\n",
       "    <tr>\n",
       "      <th>3</th>\n",
       "      <td>103</td>\n",
       "      <td>Black</td>\n",
       "      <td>Disputed</td>\n",
       "      <td>3</td>\n",
       "    </tr>\n",
       "    <tr>\n",
       "      <th>4</th>\n",
       "      <td>45</td>\n",
       "      <td>Black</td>\n",
       "      <td>Disputed</td>\n",
       "      <td>4</td>\n",
       "    </tr>\n",
       "  </tbody>\n",
       "</table>\n",
       "</div>"
      ],
      "text/plain": [
       "   first raceethnicity     armed  second\n",
       "0    100         Black  Disputed       0\n",
       "1    693         White  Disputed       1\n",
       "2    140         Black  Disputed       2\n",
       "3    103         Black  Disputed       3\n",
       "4     45         Black  Disputed       4"
      ]
     },
     "execution_count": 20,
     "metadata": {},
     "output_type": "execute_result"
    }
   ],
   "source": [
    "# 3. add the reorded index variable to the dataset in step 1\n",
    "\n",
    "# reorder the index from 1 to the end. this will be the new order of the records\n",
    "# create a new column for the index column\n",
    "dataset_sankey_sorted_by_armed.index = list(range(len(dataset_sankey_sorted_by_armed.index)))\n",
    "dataset_sankey_sorted_by_armed['second'] = dataset_sankey_sorted_by_armed.index\n",
    "dataset_sankey_sorted_by_armed.head()"
   ]
  },
  {
   "cell_type": "code",
   "execution_count": 21,
   "metadata": {
    "collapsed": false
   },
   "outputs": [],
   "source": [
    "# save dataframe to excel file\n",
    "\n",
    "dataset_sankey_tableau = dataset_sankey_sorted_by_armed\n",
    "\n",
    "dataset_sankey_tableau.to_excel('counted_tableau.xls')"
   ]
  },
  {
   "cell_type": "markdown",
   "metadata": {},
   "source": [
    "# Continue with Tableau"
   ]
  },
  {
   "cell_type": "markdown",
   "metadata": {},
   "source": [
    "https://public.tableau.com/profile/publish/SankeyDiagramCounteddataset/Dashboard2#!/publish-confirm"
   ]
  },
  {
   "cell_type": "code",
   "execution_count": null,
   "metadata": {
    "collapsed": true
   },
   "outputs": [],
   "source": [
    "Note: The dataset seems to be duplicated, so the count"
   ]
  }
 ],
 "metadata": {
  "kernelspec": {
   "display_name": "Python 2",
   "language": "python",
   "name": "python2"
  },
  "language_info": {
   "codemirror_mode": {
    "name": "ipython",
    "version": 2
   },
   "file_extension": ".py",
   "mimetype": "text/x-python",
   "name": "python",
   "nbconvert_exporter": "python",
   "pygments_lexer": "ipython2",
   "version": "2.7.11"
  }
 },
 "nbformat": 4,
 "nbformat_minor": 0
}
